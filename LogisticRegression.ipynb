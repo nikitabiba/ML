{
 "cells": [
  {
   "cell_type": "code",
   "execution_count": 18,
   "metadata": {},
   "outputs": [],
   "source": [
    "import numpy as np\n",
    "\n",
    "\n",
    "class LogisticRegressionGD(object):\n",
    "  eta : float\n",
    "  n_iter : int\n",
    "  random_state : int\n",
    "\n",
    "  w_: np.array\n",
    "  cost_ : list\n",
    "  \n",
    "  def __init__(self, eta=0.01, n_iter=50, shuffle=True, random_state=1):\n",
    "    self.eta = eta\n",
    "    self.n_iter = n_iter\n",
    "    self.random_state = random_state\n",
    "    \n",
    "  def fit(self, X, y):\n",
    "    self.rgen = np.random.RandomState(self.random_state)\n",
    "    self.w_ = self.rgen.normal(loc=0.0, scale=0.01, size=1 + X.shape[1])\n",
    "    self.cost_ = []\n",
    "    for i in range(self.n_iter):\n",
    "      input = self.net_input(X)\n",
    "      output = self.activation(X)\n",
    "      errors = (y - output)\n",
    "      self.w_[1:] += self.eta * X.T.dot(errors)\n",
    "      self.w_[0] += self.eta * errors.sum()\n",
    "      cost = (-y.dot(np.log(output)) - ((1 - y).dot(np.log(1 - output)))) # теперь тут ошибка логистической функции\n",
    "      self.cost_.append(cost)\n",
    "    return self\n",
    "  \n",
    "  def net_input(self, X):\n",
    "    return np.dot(X, self.w_[1:]) + self.w_[0]\n",
    "  \n",
    "  def activation(self, X):\n",
    "    return 1. / (1. + np.exp(-self.net_input(X))) # можно использовать np.clip(self.net_input(X), -250, 250) для ограничения диапазона вычисляемой функции\n",
    "\n",
    "  def predict(self, X):\n",
    "    return np.where(self.net_input(X) >= 0.0, 1, 0)"
   ]
  },
  {
   "cell_type": "code",
   "execution_count": 24,
   "metadata": {},
   "outputs": [
    {
     "name": "stdout",
     "output_type": "stream",
     "text": [
      "100% accuracy\n"
     ]
    }
   ],
   "source": [
    "from sklearn import datasets\n",
    "import IPython.display as display\n",
    "from sklearn.model_selection import train_test_split\n",
    "from sklearn.preprocessing import StandardScaler\n",
    "from sklearn.metrics import accuracy_score\n",
    "\n",
    "iris = datasets.load_iris()\n",
    "X = iris.data[:100, [2, 3]]\n",
    "y = iris.target[:100]\n",
    "X_train, X_test, y_train, y_test = train_test_split(X, y, test_size=0.3, random_state=1, stratify=y)\n",
    "\n",
    "sc = StandardScaler()\n",
    "sc.fit(X_train)\n",
    "X_train_std = sc.transform(X_train)\n",
    "X_test_std = sc.transform(X_test)\n",
    "\n",
    "lrgd = LogisticRegressionGD()\n",
    "lrgd.fit(X_train_std, y_train)\n",
    "\n",
    "y_pred = lrgd.predict(X_test_std)\n",
    "print(f\"{round(accuracy_score(y_test, y_pred) * 100)}% accuracy\")"
   ]
  }
 ],
 "metadata": {
  "kernelspec": {
   "display_name": "Python 3",
   "language": "python",
   "name": "python3"
  },
  "language_info": {
   "codemirror_mode": {
    "name": "ipython",
    "version": 3
   },
   "file_extension": ".py",
   "mimetype": "text/x-python",
   "name": "python",
   "nbconvert_exporter": "python",
   "pygments_lexer": "ipython3",
   "version": "3.10.5"
  }
 },
 "nbformat": 4,
 "nbformat_minor": 2
}
