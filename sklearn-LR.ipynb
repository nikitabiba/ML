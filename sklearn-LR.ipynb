{
 "cells": [
  {
   "cell_type": "code",
   "execution_count": null,
   "metadata": {},
   "outputs": [
    {
     "name": "stdout",
     "output_type": "stream",
     "text": [
      "98% accuracy\n"
     ]
    }
   ],
   "source": [
    "from sklearn.linear_model import LogisticRegression\n",
    "from sklearn.multiclass import OneVsRestClassifier\n",
    "from sklearn import datasets\n",
    "import IPython.display as display\n",
    "from sklearn.model_selection import train_test_split\n",
    "from sklearn.preprocessing import StandardScaler\n",
    "from sklearn.metrics import accuracy_score\n",
    "\n",
    "iris = datasets.load_iris()\n",
    "X = iris.data[:, [2, 3]]\n",
    "y = iris.target[:]\n",
    "X_train, X_test, y_train, y_test = train_test_split(X, y, test_size=0.3, random_state=1, stratify=y)\n",
    "\n",
    "sc = StandardScaler()\n",
    "sc.fit(X_train)\n",
    "X_train_std = sc.transform(X_train)\n",
    "X_test_std = sc.transform(X_test)\n",
    "# для не только взаимно исключающих классов(один объект может принадлежать двум классам)\n",
    "# solver указывает алгоритм оптимизации функции издержек\n",
    "# в данном случае это алгоритм Бройдена-Флетчера-Гольдфарба-Шанно с ограниченной памятью, он применяется и по умолчанию\n",
    "# C - коэффициент регуляризации: чем он больше, тем регуляризация меньше, и наоборот(нужно для предотвращения переобучения)\n",
    "# он добавляется к функции потерь(смотри в конспекте)\n",
    "ovr_lr = OneVsRestClassifier(LogisticRegression(C=100.0, random_state=1, solver='lbfgs'))\n",
    "ovr_lr.fit(X_train_std, y_train)\n",
    "\n",
    "y_pred = ovr_lr.predict(X_test_std)\n",
    "print(f\"{round(accuracy_score(y_test, y_pred) * 100)}% accuracy\")"
   ]
  },
  {
   "cell_type": "code",
   "execution_count": null,
   "metadata": {},
   "outputs": [
    {
     "name": "stdout",
     "output_type": "stream",
     "text": [
      "98% accuracy\n"
     ]
    }
   ],
   "source": [
    "# лучше для взаимно исключающих классов(один объект может принадлежать только одному классу)\n",
    "multinomial_lr = LogisticRegression(C=100.0, random_state=1, solver='lbfgs')\n",
    "multinomial_lr.fit(X_train_std, y_train)\n",
    "\n",
    "y_pred = multinomial_lr.predict(X_test_std)\n",
    "print(f\"{round(accuracy_score(y_test, y_pred) * 100)}% accuracy\")"
   ]
  },
  {
   "cell_type": "code",
   "execution_count": null,
   "metadata": {},
   "outputs": [
    {
     "data": {
      "text/plain": [
       "array([[6.63770505e-09, 1.44747233e-01, 8.55252760e-01],\n",
       "       [8.34031210e-01, 1.65968790e-01, 3.20815954e-13],\n",
       "       [8.48822884e-01, 1.51177116e-01, 2.57998350e-14]])"
      ]
     },
     "execution_count": 10,
     "metadata": {},
     "output_type": "execute_result"
    }
   ],
   "source": [
    "ovr_lr.predict_proba(X_test_std[:3, :]) # в каждой строке вероятность принадлежности образца к каждому из трёх классов"
   ]
  },
  {
   "cell_type": "code",
   "execution_count": null,
   "metadata": {},
   "outputs": [
    {
     "data": {
      "text/plain": [
       "array([2, 0, 0])"
      ]
     },
     "execution_count": 11,
     "metadata": {},
     "output_type": "execute_result"
    }
   ],
   "source": [
    "ovr_lr.predict(X_test_std[:3, :]) # наиболее вероятные метки"
   ]
  },
  {
   "cell_type": "code",
   "execution_count": null,
   "metadata": {},
   "outputs": [],
   "source": [
    "ovr_lr.predict(X_test_std[0, :] .reshape(1, -1)) # на случай если нужна метка лишь одного образца"
   ]
  }
 ],
 "metadata": {
  "kernelspec": {
   "display_name": "Python 3",
   "language": "python",
   "name": "python3"
  },
  "language_info": {
   "codemirror_mode": {
    "name": "ipython",
    "version": 3
   },
   "file_extension": ".py",
   "mimetype": "text/x-python",
   "name": "python",
   "nbconvert_exporter": "python",
   "pygments_lexer": "ipython3",
   "version": "3.10.5"
  }
 },
 "nbformat": 4,
 "nbformat_minor": 2
}
