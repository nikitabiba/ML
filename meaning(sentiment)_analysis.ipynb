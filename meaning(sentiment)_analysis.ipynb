{
 "cells": [
  {
   "cell_type": "code",
   "execution_count": 17,
   "metadata": {},
   "outputs": [
    {
     "name": "stderr",
     "output_type": "stream",
     "text": [
      "0% [##############################] 100% | ETA: 00:00:00\n",
      "Total time elapsed: 00:04:25\n"
     ]
    }
   ],
   "source": [
    "import pyprind\n",
    "import pandas as pd\n",
    "import os\n",
    "import codecs\n",
    "\n",
    "\n",
    "basepath = \"aclImdb_v1\\\\aclImdb\"\n",
    "\n",
    "labels = {'pos': 1, 'neg': 0}\n",
    "pbar = pyprind.ProgBar(50000)\n",
    "df = pd.DataFrame()\n",
    "for s in ('test', 'train'):\n",
    "    for l in ('pos', 'neg'):\n",
    "        path = os.path.join(basepath, s, l)\n",
    "        for file in sorted(os.listdir(path)):\n",
    "            with codecs.open(os.path.join(path, file), 'r', 'utf_8_sig') as infile:\n",
    "                txt = infile.read()\n",
    "            df = pd.concat([df, pd.DataFrame({'review': [txt], 'sentiment': [labels[l]]})], ignore_index=True)\n",
    "            pbar.update()"
   ]
  },
  {
   "cell_type": "code",
   "execution_count": 20,
   "metadata": {},
   "outputs": [],
   "source": [
    "import numpy as np\n",
    "\n",
    "\n",
    "np.random.seed(42)\n",
    "df = df.reindex(np.random.permutation(df.index))\n",
    "df.to_csv('movie_data.csv', index=False, encoding='utf-8')"
   ]
  },
  {
   "cell_type": "code",
   "execution_count": 22,
   "metadata": {},
   "outputs": [
    {
     "name": "stdout",
     "output_type": "stream",
     "text": [
      "{'the': 6, 'sun': 4, 'is': 1, 'shining': 3, 'weather': 8, 'sweet': 5, 'and': 0, 'one': 2, 'two': 7}\n"
     ]
    }
   ],
   "source": [
    "from sklearn.feature_extraction.text import CountVectorizer\n",
    "\n",
    "\n",
    "count = CountVectorizer()\n",
    "docs = np.array(['The sun is shining', 'The weather is sweet', 'The sun is shining, the weather is sweet, and one and one is two'])\n",
    "bag = count.fit_transform(docs)\n",
    "\n",
    "print(count.vocabulary_)"
   ]
  },
  {
   "cell_type": "code",
   "execution_count": 23,
   "metadata": {},
   "outputs": [
    {
     "name": "stdout",
     "output_type": "stream",
     "text": [
      "[[0 1 0 1 1 0 1 0 0]\n",
      " [0 1 0 0 0 1 1 0 1]\n",
      " [2 3 2 1 1 1 2 1 1]]\n"
     ]
    }
   ],
   "source": [
    "print(bag.toarray())"
   ]
  },
  {
   "cell_type": "code",
   "execution_count": 24,
   "metadata": {},
   "outputs": [
    {
     "name": "stdout",
     "output_type": "stream",
     "text": [
      "[[0.   0.43 0.   0.56 0.56 0.   0.43 0.   0.  ]\n",
      " [0.   0.43 0.   0.   0.   0.56 0.43 0.   0.56]\n",
      " [0.5  0.45 0.5  0.19 0.19 0.19 0.3  0.25 0.19]]\n"
     ]
    }
   ],
   "source": [
    "from sklearn.feature_extraction.text import TfidfTransformer\n",
    "\n",
    "\n",
    "tfidf = TfidfTransformer(use_idf=True, norm='l2', smooth_idf=True)\n",
    "np.set_printoptions(precision=2)\n",
    "print(tfidf.fit_transform(bag).toarray())"
   ]
  },
  {
   "cell_type": "code",
   "execution_count": 27,
   "metadata": {},
   "outputs": [
    {
     "data": {
      "text/plain": [
       "['the', 'sun', 'is', 'shining']"
      ]
     },
     "execution_count": 27,
     "metadata": {},
     "output_type": "execute_result"
    }
   ],
   "source": [
    "def tokenizer(text):\n",
    "    return [s for s in map(lambda x: x.lower(), text.split())]\n",
    "\n",
    "tokenizer('The sun is shining')"
   ]
  },
  {
   "cell_type": "code",
   "execution_count": 28,
   "metadata": {},
   "outputs": [
    {
     "data": {
      "text/plain": [
       "['the', 'sun', 'is', 'shine']"
      ]
     },
     "execution_count": 28,
     "metadata": {},
     "output_type": "execute_result"
    }
   ],
   "source": [
    "from nltk.stem.porter import PorterStemmer\n",
    "\n",
    "\n",
    "def tokenizer_porter(text):\n",
    "    return [porter.stem(word) for word in tokenizer(text)]\n",
    "\n",
    "porter = PorterStemmer()\n",
    "tokenizer_porter('The sun is shining')"
   ]
  },
  {
   "cell_type": "code",
   "execution_count": 29,
   "metadata": {},
   "outputs": [
    {
     "name": "stderr",
     "output_type": "stream",
     "text": [
      "[nltk_data] Downloading package stopwords to C:\\Users\\My\n",
      "[nltk_data]     Computer\\AppData\\Roaming\\nltk_data...\n",
      "[nltk_data]   Unzipping corpora\\stopwords.zip.\n"
     ]
    },
    {
     "data": {
      "text/plain": [
       "True"
      ]
     },
     "execution_count": 29,
     "metadata": {},
     "output_type": "execute_result"
    }
   ],
   "source": [
    "import nltk\n",
    "\n",
    "\n",
    "nltk.download('stopwords')"
   ]
  },
  {
   "cell_type": "code",
   "execution_count": 30,
   "metadata": {},
   "outputs": [
    {
     "data": {
      "text/plain": [
       "['sun', 'shine']"
      ]
     },
     "execution_count": 30,
     "metadata": {},
     "output_type": "execute_result"
    }
   ],
   "source": [
    "from nltk.corpus import stopwords\n",
    "\n",
    "\n",
    "stop = stopwords.words('english')\n",
    "[w for w in tokenizer_porter('The sun is shining')[-10:] if w not in stop]"
   ]
  },
  {
   "cell_type": "code",
   "execution_count": 31,
   "metadata": {},
   "outputs": [],
   "source": [
    "X_train = df.loc[:25000, 'review'].values\n",
    "y_train = df.loc[:25000, 'sentiment'].values\n",
    "X_test = df.loc[25000:, 'review'].values\n",
    "y_test = df.loc[25000:, 'sentiment'].values"
   ]
  },
  {
   "cell_type": "code",
   "execution_count": null,
   "metadata": {},
   "outputs": [],
   "source": [
    "from sklearn.model_selection import GridSearchCV\n",
    "from sklearn.pipeline import Pipeline\n",
    "from sklearn.linear_model import LogisticRegression\n",
    "from sklearn.feature_extraction.text import TfidfVectorizer # комбинация CountVectorizer и TfidfTransformer\n",
    "\n",
    "\n",
    "tfidf = TfidfVectorizer(strip_accents=None, lowercase=False, preprocessor=None) # преобразование и нормализация текста\n",
    "param_grid = [{'vect__ngram_range': [(1, 1)],\n",
    "               'vect__stop_words': [stop, None],\n",
    "               'vect__tokenizer': [tokenizer, tokenizer_porter],\n",
    "               'clf__penalty': ['l1', 'l2'],\n",
    "               'clf__C': [1.0, 10.0, 100.0]},\n",
    "              {'vect__ngram_range': [(1, 1)],\n",
    "               'vect__stop_words': [stop, None],\n",
    "               'vect__tokenizer': [tokenizer, tokenizer_porter],\n",
    "               'vect__use_idf':[False],\n",
    "               'vect__norm':[None],\n",
    "               'clf__penalty': ['l1', 'l2'],\n",
    "               'clf__C': [1.0, 10.0, 100.0]},\n",
    "              ]\n",
    "lr_tfidf = Pipeline([('vect', tfidf), ('clf', LogisticRegression(random_state=42, solver='lbfgs'))])\n",
    "gs_lr_tfidf = GridSearchCV(lr_tfidf, param_grid, cv=5, scoring='accuracy', verbose=21, n_jobs=1) # verbose - для вывода прогресса обучения\n",
    "gs_lr_tfidf.fit(X_train, y_train) # это займёт очень много времени, потому что большой глоссарий и много комбинаций для решетчатого поиска"
   ]
  },
  {
   "cell_type": "code",
   "execution_count": null,
   "metadata": {},
   "outputs": [],
   "source": [
    "print('Best parameter set: %s ' % gs_lr_tfidf.best_params_)\n",
    "print('CV Accuracy: %.3f' % gs_lr_tfidf.best_score_)\n",
    "\n",
    "clf = gs_lr_tfidf.best_estimator_\n",
    "print('Test Accuracy: %.3f' % clf.score(X_test, y_test))"
   ]
  },
  {
   "cell_type": "code",
   "execution_count": 48,
   "metadata": {},
   "outputs": [
    {
     "data": {
      "text/plain": [
       "('\"Perspective is a good thing. Since the release of \"\"Star Wars Episode I: The Phantom Menace\"\", claims and counter-claims of just how Episode\\'s II and III will eventuate has taken the spotlight off the \\'original\\' Star Wars films, making them part of a cohesive whole, rather than segregating the older and new films into separate trilogies. What the new films have done is allow fresh perspectives to be placed on the older films. This new outlook allows us to greater appreciate what has often been viewed as the weakest of the original trilogy: \"\"Return of the Jedi\"\". Often derided for its overly \\'cute\\' factor, ROTJ is in a sense as strong as the original and only slightly less impressive than the nearly perfect \"\"The Empire Strikes Back\"\". Indeed the \\'cute\\' element of ROTJ, namely the Ewoks, remains a weak link in the entire series. Did George Lucas place the furry midgets in the film purely for the merchandising possibilities? Only he can answer that question.<br /><br />This cute factor aside, the film is a brilliant full circle AND evolution of the saga. Following on from the conclusion of \"\"The Empire Strikes Back\"\", Luke Skywalker (Mark Hamill) follows his Rebel Alliance friends to Tatooine, his home planet, to rescue Han Solo (Harrison Ford), the space pirate turned Rebel hero who was captured by Jabba the Hutt for overdue debts.<br /><br />Skywalker is a changed man since leaving Tatooine with Ben \\'Obi Wan\\' Kenobi (Alec Guiness) to fight the evil Empire. Now swathed all in black, Luke\\'s discovery of his origins have left him confused and torn. His psychological make up is not as strong as his outward appearance would suggest. While he might aim to always assist his Rebel friends, he yearns for another chance to confront the evil Darth Vader again, despite his unassuredness as to whether he will destroy him or eventually turn to the Dark Side and join Vader at the Emperor\\'s side.<br /><br />Early scenes in Tatooine are impressive, from Jabba\\'s lair, to his floating palace and the \\'almighty Sarlac\\' - an intenstine that lives in the sand. Lucas\\' CGI enhancements to the film in 1997 actually worsened the overall effect of the Sarlac, making it look fake and overdone.<br /><br />The battle scene on Tatooine is outstanding, and is one of the more memorable of the saga. Luke almost singlehandedly anihiliates Jabba and his cronies, proving his prowess as a Jedi is now almost complete.<br /><br />When Luke returns to the Degobah system to visit the ailing Yoda one more time, the viewer is let down by Yoda\\'s distinct lack of screentime. Undoubtably the star of \"\"The Empire Strikes Back\"\", Yoda is all but erased from the story as the progression of Luke\\'s destiny is played out on screen.<br /><br />ROTJ really is Luke\\'s film, perhaps even more so than the original. His journey carries the movie as he moves closer to his confrontation with Darth Vader and his fate. The other Rebel characters certainly work in his shadow. The romance between Leia (Carrie Fisher) and Solo is all but non-existant, unlike in \"\"Empire\"\". In fact only Leia\\'s character is developed in ROTJ, Solo\\'s character seems to fade as the facets of his personality have become too familiar in the first two films.<br /><br />Their roles are consigned to working alongside the Rebels to destroy an all new Death Star that nears completion. This time the Emperor himself is overseeing the final stages of construction. The Empire intends to crush the Rebellion once and for all, while the Emperor himself schemes to bring the now powerful Skywalker to his side to work alongside (or is that replace?) Darth Vader. The Emperor is a different kind of evil for this film, less cunning than Governor Tarkin (Peter Cushing) from \"\"Star Wars\"\", more deeply psychologically dark than anything else. Played brilliantly by Ian McDiarmid, the Emperor is just one of those characters you love to hate.<br /><br />All the other actors are well entrenched in their roles. Hamill surprises as the more wisened Luke, making his character\\'s progression from whiny teenager, impatient student to enlightened warrior one of the few real character developments of the series. Ford\\'s role is waring thin, as all his charm and charisma was spent in the first two films -- he was the REAL star of the first film after all. Fisher\\'s Leia is more of a prop, at least unti the end of the film where she learns things about herself that she was never sure about... Add in favourites like Alec Guiness as Kenobi, Yoda and the loveable Chewbacca, C-3PO and R2D2 and the series resembles a family more than a cast.<br /><br />Despite the film\\'s corny forest battle involving the Ewoks and the Empire, it ends well and includes a three way battle sequence: on Endor, in space and on the Death Star, each with very impressive special effects. The music, as always, is brilliant and captures the mood perfectly in every instance. Just as the \\'Blue Danube\\' worked perfectly for \"\"2001: A Space Odyssey\"\", John Williams\\' score is as much a part of \"\"Star Wars\"\" folklore as light sabers and the Force.<br /><br />Lucas left the ending open to interpretation, meaning there could have been more episodes made. Indeed sci-fi fans have created their own versions of Episodes VII, VIII and IX in their heads over and over again. ROTJ works when given a chance, and furry cute animals aside is a good finish to the series.<br /><br />When all six episodes get to be viewed together, this saga could well be the best ever made. Is it already? The addition of Episode I changed the landscape of the series. This is why \"\"Return of the Jedi\"\" can now be viewed in a different light and be given a whole new appreciation nearly 20 years after its release.\",1',\n",
       " 1)"
      ]
     },
     "execution_count": 48,
     "metadata": {},
     "output_type": "execute_result"
    }
   ],
   "source": [
    "def tokenizer(text):\n",
    "    tokenized = [s for s in map(lambda x: x.lower(), text.split())]\n",
    "    stop = stopwords.words('english')\n",
    "    [w for w in tokenized if w not in stop]\n",
    "\n",
    "    return tokenized\n",
    "\n",
    "def stream_docs(path):\n",
    "    with codecs.open(path, 'r', 'utf_8_sig') as csv:\n",
    "        next(csv) # пропуск заголовка\n",
    "        for line in csv:\n",
    "            text, label = line[:-2], int(line[-3])\n",
    "            yield text, label\n",
    "\n",
    "\n",
    "next(stream_docs(path='movie_data.csv'))"
   ]
  },
  {
   "cell_type": "code",
   "execution_count": 49,
   "metadata": {},
   "outputs": [],
   "source": [
    "def get_minibatch(doc_stream, size):\n",
    "    docs, y = [], []\n",
    "    try:\n",
    "        for _ in range(size):\n",
    "            text, label = next(doc_stream)\n",
    "            docs.append(text)\n",
    "            y.append(label)\n",
    "    except StopIteration:\n",
    "        return None, None\n",
    "    return docs, y"
   ]
  },
  {
   "cell_type": "code",
   "execution_count": 50,
   "metadata": {},
   "outputs": [],
   "source": [
    "from sklearn.feature_extraction.text import HashingVectorizer\n",
    "from sklearn.linear_model import SGDClassifier\n",
    "\n",
    "\n",
    "vect = HashingVectorizer(n_features=2**21, decode_error='ignore', preprocessor=None, tokenizer=tokenizer)\n",
    "clf = SGDClassifier(loss='log', random_state=42)\n",
    "doc_stream = stream_docs(path='movie_data.csv')"
   ]
  },
  {
   "cell_type": "code",
   "execution_count": 76,
   "metadata": {},
   "outputs": [],
   "source": [
    "import pyprind\n",
    "\n",
    "\n",
    "pbar = pyprind.ProgBar(50000)\n",
    "classes = np.array([0, 1])\n",
    "for _ in range(45):\n",
    "    X_train, y_train = get_minibatch(doc_stream, size=1000)\n",
    "    if not X_train:\n",
    "        break\n",
    "    X_train = vect.transform(X_train)\n",
    "    clf.partial_fit(X_train, y_train, classes=classes)\n",
    "    pbar.update()"
   ]
  },
  {
   "cell_type": "code",
   "execution_count": null,
   "metadata": {},
   "outputs": [],
   "source": [
    "X_text, y_test = get_minibatch(doc_stream, size=5000)\n",
    "X_text = vect.transform(X_text)\n",
    "print('Test Accuracy: %.3f' % clf.score(X_text, y_test))"
   ]
  },
  {
   "cell_type": "code",
   "execution_count": null,
   "metadata": {},
   "outputs": [],
   "source": [
    "clf = clf.partial_fit(X_text, y_test) # дообучаем на тестовых образцах"
   ]
  }
 ],
 "metadata": {
  "kernelspec": {
   "display_name": "Python 3",
   "language": "python",
   "name": "python3"
  },
  "language_info": {
   "codemirror_mode": {
    "name": "ipython",
    "version": 3
   },
   "file_extension": ".py",
   "mimetype": "text/x-python",
   "name": "python",
   "nbconvert_exporter": "python",
   "pygments_lexer": "ipython3",
   "version": "3.12.4"
  }
 },
 "nbformat": 4,
 "nbformat_minor": 2
}
