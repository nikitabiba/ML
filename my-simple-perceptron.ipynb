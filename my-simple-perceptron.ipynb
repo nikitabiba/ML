{
 "cells": [
  {
   "cell_type": "code",
   "execution_count": 21,
   "metadata": {},
   "outputs": [],
   "source": [
    "import pandas as pd\n",
    "from IPython.display import display\n",
    "\n",
    "\n",
    "dataset = pd.read_csv('dataset-for-perceptron.csv', index_col='Pattern')\n",
    "\n",
    "classLabels = dataset['Class_Label'].to_list()\n",
    "dataset.drop('Class_Label', axis=1, inplace=True)\n",
    "featuresList = dataset[dataset.columns].values.tolist()\n",
    "\n",
    "datasetDictionary = [(featuresList[i], classLabels[i]) for i in range(len(classLabels))]\n",
    "\n",
    "trainDataset = datasetDictionary[:8]\n",
    "testDataset = datasetDictionary[8:]"
   ]
  },
  {
   "cell_type": "code",
   "execution_count": 22,
   "metadata": {},
   "outputs": [
    {
     "name": "stdout",
     "output_type": "stream",
     "text": [
      "Training quality: 100.0%\n",
      "Test quality: 80.0%\n"
     ]
    }
   ],
   "source": [
    "import numpy as np\n",
    "import pandas as pd\n",
    "import random\n",
    "\n",
    "\n",
    "def func(z):\n",
    "  return 1 if z >= 0 else 0\n",
    "\n",
    "n = 0.001\n",
    "vektorW = [0 for i in range(3)]\n",
    "\n",
    "for i in range(1000):\n",
    "  for row in trainDataset:\n",
    "    z = np.dot(vektorW, row[0])\n",
    "    y = func(z)\n",
    "    for i in range(len(vektorW)):\n",
    "      vektorW[i] += n*(row[1] - y)*row[0][i]\n",
    "\n",
    "trainingQuality = 0\n",
    "testQuality = 0\n",
    "\n",
    "for row in trainDataset:\n",
    "    z = np.dot(vektorW, row[0])\n",
    "    y = func(z)\n",
    "    trainingQuality += 1 if y == row[1] else 0\n",
    "\n",
    "for row in testDataset:\n",
    "    z = np.dot(vektorW, row[0])\n",
    "    y = func(z)\n",
    "    testQuality += 1 if y == row[1] else 0\n",
    "\n",
    "print(f\"Training quality: {(trainingQuality/len(trainDataset))*100}%\")\n",
    "print(f\"Test quality: {(testQuality/len(testDataset))*100}%\")"
   ]
  }
 ],
 "metadata": {
  "kernelspec": {
   "display_name": "Python 3",
   "language": "python",
   "name": "python3"
  },
  "language_info": {
   "codemirror_mode": {
    "name": "ipython",
    "version": 3
   },
   "file_extension": ".py",
   "mimetype": "text/x-python",
   "name": "python",
   "nbconvert_exporter": "python",
   "pygments_lexer": "ipython3",
   "version": "3.10.5"
  }
 },
 "nbformat": 4,
 "nbformat_minor": 2
}
