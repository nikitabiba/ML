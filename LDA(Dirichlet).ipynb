{
 "cells": [
  {
   "cell_type": "code",
   "execution_count": 2,
   "metadata": {},
   "outputs": [],
   "source": [
    "import pandas as pd\n",
    "from sklearn.decomposition import LatentDirichletAllocation\n",
    "from sklearn.feature_extraction.text import CountVectorizer\n",
    "\n",
    "\n",
    "df = pd.read_csv('movie_data.csv')\n",
    "count = CountVectorizer(stop_words='english', max_features=5000, max_df=0.1) # max_df - чтобы исключить слишком популярные слова(больше 10% частота)\n",
    "X = count.fit_transform(df['review'].values)\n",
    "\n",
    "lda = LatentDirichletAllocation(n_components=10, learning_method='batch', random_state=0) # n_components - количество тем, learning_method=batch - использовать весь датасет\n",
    "X_topics = lda.fit_transform(X)"
   ]
  },
  {
   "cell_type": "code",
   "execution_count": 3,
   "metadata": {},
   "outputs": [
    {
     "data": {
      "text/plain": [
       "(10, 5000)"
      ]
     },
     "execution_count": 3,
     "metadata": {},
     "output_type": "execute_result"
    }
   ],
   "source": [
    "lda.components_.shape # (10, 5000) - важность каждого слова для каждой из тем"
   ]
  },
  {
   "cell_type": "code",
   "execution_count": 8,
   "metadata": {},
   "outputs": [
    {
     "name": "stdout",
     "output_type": "stream",
     "text": [
      "Topic #1:\n",
      "music performance excellent dvd version\n",
      "Topic #2:\n",
      "horror book original gore effects\n",
      "Topic #3:\n",
      "fun kids family john comedy\n",
      "Topic #4:\n",
      "action black white style art\n",
      "Topic #5:\n",
      "comedy script jokes worst laugh\n",
      "Topic #6:\n",
      "family feel person ending believe\n",
      "Topic #7:\n",
      "war game american family german\n",
      "Topic #8:\n",
      "guy worst minutes stupid ll\n",
      "Topic #9:\n",
      "series episode tv episodes fi\n",
      "Topic #10:\n",
      "woman wife father plays role\n"
     ]
    }
   ],
   "source": [
    "n_top_words = 5\n",
    "feature_names = count.get_feature_names_out()\n",
    "for topic_idx, topic in enumerate(lda.components_):\n",
    "    print(\"Topic #%d:\" % (topic_idx + 1))\n",
    "    print(\" \".join([feature_names[i]\n",
    "                    for i in topic.argsort()[:-n_top_words - 1:-1]]))"
   ]
  },
  {
   "cell_type": "code",
   "execution_count": 9,
   "metadata": {},
   "outputs": [
    {
     "name": "stdout",
     "output_type": "stream",
     "text": [
      "\n",
      "War film #1\n",
      "I just recently saw this movie in hopes of seeing an accurate portrayal of the bloodiest battle of the 20th Century. I got what I had expected and so much more. Just to think I came across this movie by luck, before I had never even heard of it. It's a German film made in 1993 so I suppose I can't be surprised that it's almost completely unknown to the modern American audience. It's a shame cause this really is a remarkable film, I dare say that its as good if not better then Platoon, Full metal jacket, Apocalypse now, and All quiet on the western front; all of which are iconic war movies.<br /><br />1942: World War II is in full swing. Nazi Germany has over run Mainland Europe and parts of North Africa, then Adolf Hitler orders the full scale invasion of the Soviet Union. A fateful move that ultimately dooms Nazi Germany to defeat. In the early stages the invasion goes well and the German Armies conquer large sections of Soviet territory, but a critical battle ensues at Stalingrad, A city that hold great symbolic & strategic value. The battle soon turns into a blood bath of epic proportions, a nightmare for both the German & Russian soldiers fighting. On the verge of taking the city the Germans are suddenly counter attacked by the Russians who end up cutting off the entire German 6th Army inside Stalingrad. To make matters worse, the Russian winter arrives causing incredible suffering for the Germans. This entire battle is seen through the eyes of a few young German soldiers fighting for survival not only against the Russians and the harsh winter conditions but also against their own Sadistic officers who care only about medals & glory and the generals who have little regard for the average foot soldier.<br /><br />This film is going to haunt me for a while. The German Soldiers the film concentrates on are so young and naive, then their humanity & sanity are stripped from them and you really do feel sorry for them cause their not the demonic Nazi's often portrayed in film. Everything they were fighting for is no longer important, and everything they believed in was shattered, and after fighting a gruesome battle against the Russians inside Stalingrad we see them further deteriorate with the onset of Winter causing many to freeze to death. The Battle & Winter scenes were like a horrible nightmare but it also felt so real. It's amazing, in the beginning we see strapping young men in the prime of their life, and at the end they a shells of their former selves stripped of everything. After witnessing so much carnage these men just loose their will to live on, it was really sad. When there is finally a moment of hope they are betrayed by Hitler who ultimately abandons these men to a horrible death, which is just another one of Hitler's crimes abandoning the men who fought for him to be slaughtered by the Russians. <br /><br />A good Anti-War film depicts the horrors of war and that's what this movie does. The battle for the tractor factory sequence Is the closest thing that comes to hell on earth, but that's really what The Battle for Stalingrad was like. The German & Russian soldiers were depicted with humanity, it was only the bad apples (specifically on the German side) that doomed the men. Bottom line is this film is amazing cause we see how men breakdown physically & emotionally during war. We all have our limits and these men were pushed far beyond their limits in the most deadly battle of our time. What the average foot soldier endured at Stalingrad was beyond imagination. Even if they had survived everything they had seen & done would have scarred them for life.<br /><br />Stalingrad shows us why War is Hell, and what exactly hell looks like.\n",
      "\n",
      "\n",
      "War film #2\n",
      "Adolf Hitler's maniacal desire to impose his will on the rest of the world is the subject of this second in a seven part series of films produced by the U.S. War Department as an instructional tool for new soldiers entering the Armed Forces during World War II. Hitler's plan was methodical and well conceived, starting with the conquest of Eastern Europe, expanding to the European heartland, then moving on to the 'World Island' consisting of Europe, Asia and Africa. His final move would be to reach across the oceans for the ultimate conquest of the Americas and the World.<br /><br />In 1935, Hitler ordered national conscription, as the rest of the country fell under his evil spell. Grade school children sang his praises, and young German boys received training and indoctrination in military camps. Marching unopposed into Austria in 1938, Hitler followed by annexing a strip of land bordering Germany and Czechoslovakia called Sudetenland. In 1939, Hitler took all of Czechoslovakia. Later in the year, the world was stunned to learn that Germany signed a non-aggression pact with it's mortal enemy Russia, a ploy to delay Hitler's military involvement on too many fronts. Immediately after, Germany invaded Poland, bringing Hitler's conquest right to Russia's doorstep. He would deal with her later.<br /><br />It was during this period that Britain still declined to oppose Hitler's thrust across Europe. Prime Minister Neville Chamberlain felt he procured a great victory for his country by accepting a treaty with Germany, his infamous declaration stating 'Peace in Our Time'. It didn't turn out that way.<br /><br />The most fascinating information to be learned in this installment, at least to me, was provided by a small snippet of footage from a German pro Hitler rally in the mid '30's. It was led by a German American taking his cue directly from the homeland. The venue - Madison Square Garden!\n",
      "\n",
      "\n",
      "War film #3\n",
      "This great film is composed mostly of documentary footage is currently contained on a DVD along with Prelude to War. The great American filmmaker and story teller Frank Capra made these films which simply and clearly call attention to the main points that caused World War II and Hitler's rise.<br /><br />Every school child, nay, every American should watch these films today because they are so apropos. History has been repeating itself over and over again! The Lord Chamberlains are still alive and kicking; the tactics used by the Nazis of infiltrating countries through sympathizers and then the Communists and now by Muslim terrorist groups, are still working to these evil group's advantage.<br /><br />By sitting back and letting Hitler as early as 1935 be aggressive - France, America and England caused over 50 million people's deaths. Americans, French and British today would happily let Hitler do exactly the same thing despite the fact that we should have learned from history what happens when you let dictators break treaties.<br /><br />These great films may be too simplistic for World War II history buffs. They don't tell the horrors that the Soviet Union caused simply because at the time America was teamed up with them, fighting Hitler. This film does tell the plain facts and motives that led to the terrible war.\n",
      "\n",
      "\n",
      "War film #4\n",
      "The movie Night Crossing captures the feelings experienced by the vast majority of East Germans during the period 1961-89. I lived in West Berlin during most of 1967 and travelled through The Wall into East Berlin on a weekly basis. Why? Excitement, crossing a border into a Soviet governed country, experiencing the smells and the feel of East Germany, which is why Night Crossing is excellent, it captures that very feeling, and it is exciting. I was arrested by the Vopos in Checkpoint Charlie and accosted by a man in his leather coat and dark glasses I am led to believe was Stasi. When I watch the movie I can smell cheap diesel and cooking oil, I can see the outdated vehicles, the drab clothing the public wore and the lacklustre produce in shop windows. It brings back memories of realising just how lucky I was to live in a free country. In 1988, I toured the DDR from East to West, North to South. East Germany had changed little since 1967. The Trabants, constantly breaking down, were still the main mode of private motorised transport, the shops still featured nothing much to tempt me, uniforms were still commonplace, but the people, the ordinary people were open and nice once you had gained their trust. Watch Night Crossing, it's as close to the truth as any movie you will see on divided Germany, even closer than two other favourites The Spy Who Came In From The Cold and Funeral In Berlin.\n",
      "\n",
      "\n",
      "War film #5\n",
      "I'm both amused and disgusted by the people who claim that this movie is so accurate about Vietnam, and WERE NEVER THERE. This movie is about as true about the whole Vietnam war as the Rodney King beating is true about ALL police officers. Yes, bad things do (and did) happen, but in general the people there are just like you and me. They have morals, they are not killing machines, they do not all do drugs. Atrocities were the exception in Vietnam, not the rule. They happened far more infrequently than the \"hype\" would lead you believe. Oliver Stone has a knack for making movies that show the Vietnam war as this brutal bloodbath, but are based as much in reality as Star Wars. If you honestly believe the stereotypes of Vietnam, do yourself a favour and learn the truth. Fact: the Viet Cong and NVA did far worse things to the South Vietnamese than ANY soldier in the US Armed Forces ever did. Fact: the soldiers in World War II treated the enemy far worse in general than the soldiers in Vietnam did, and they were WELCOMED when they came home. The fine Americans who served this country in Vietnam deserve our respect; though the war was badly fought from a political standpoint, no one could have asked for more from our soldiers, and it is a great disservice to assert that this kind of \"mostly true\" fiction is the way things really were there.\n",
      "\n"
     ]
    }
   ],
   "source": [
    "war = X_topics[:, 6].argsort()[::-1]\n",
    "for iter_idx, movie_idx in enumerate(war[:5]):\n",
    "    print('\\nWar film #%d' % (iter_idx + 1))\n",
    "    print(df['review'][movie_idx])\n",
    "    print()\n"
   ]
  }
 ],
 "metadata": {
  "kernelspec": {
   "display_name": "Python 3",
   "language": "python",
   "name": "python3"
  },
  "language_info": {
   "codemirror_mode": {
    "name": "ipython",
    "version": 3
   },
   "file_extension": ".py",
   "mimetype": "text/x-python",
   "name": "python",
   "nbconvert_exporter": "python",
   "pygments_lexer": "ipython3",
   "version": "3.12.4"
  }
 },
 "nbformat": 4,
 "nbformat_minor": 2
}
