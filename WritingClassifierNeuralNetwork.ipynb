{
 "cells": [
  {
   "cell_type": "code",
   "execution_count": 69,
   "metadata": {},
   "outputs": [],
   "source": [
    "import numpy as np # linear algebra\n",
    "import struct\n",
    "from array import array\n",
    "from os.path  import join\n",
    "\n",
    "\n",
    "class MnistDataloader(object):\n",
    "    def __init__(self, training_images_filepath,training_labels_filepath,\n",
    "                 test_images_filepath, test_labels_filepath):\n",
    "        self.training_images_filepath = training_images_filepath\n",
    "        self.training_labels_filepath = training_labels_filepath\n",
    "        self.test_images_filepath = test_images_filepath\n",
    "        self.test_labels_filepath = test_labels_filepath\n",
    "    \n",
    "    def read_images_labels(self, images_filepath, labels_filepath):        \n",
    "        labels = []\n",
    "        with open(labels_filepath, 'rb') as file:\n",
    "            magic, size = struct.unpack(\">II\", file.read(8))\n",
    "            if magic != 2049:\n",
    "                raise ValueError('Magic number mismatch, expected 2049, got {}'.format(magic))\n",
    "            labels = array(\"B\", file.read())        \n",
    "        \n",
    "        with open(images_filepath, 'rb') as file:\n",
    "            magic, size, rows, cols = struct.unpack(\">IIII\", file.read(16))\n",
    "            if magic != 2051:\n",
    "                raise ValueError('Magic number mismatch, expected 2051, got {}'.format(magic))\n",
    "            image_data = array(\"B\", file.read())        \n",
    "        images = []\n",
    "        for i in range(size):\n",
    "            images.append([0] * rows * cols)\n",
    "        for i in range(size):\n",
    "            img = np.array(image_data[i * rows * cols:(i + 1) * rows * cols])\n",
    "            img = img.reshape(28, 28)\n",
    "            images[i][:] = img            \n",
    "        \n",
    "        return images, labels\n",
    "            \n",
    "    def load_data(self):\n",
    "        x_train, y_train = self.read_images_labels(self.training_images_filepath, self.training_labels_filepath)\n",
    "        x_test, y_test = self.read_images_labels(self.test_images_filepath, self.test_labels_filepath)\n",
    "        return (x_train, y_train),(x_test, y_test)"
   ]
  },
  {
   "cell_type": "code",
   "execution_count": 70,
   "metadata": {},
   "outputs": [],
   "source": [
    "import random\n",
    "\n",
    "\n",
    "training_images_filepath = r'C:\\Users\\csr10\\OneDrive\\Рабочий стол\\Work\\Learn\\ML\\input\\train-images-idx3-ubyte\\train-images-idx3-ubyte'\n",
    "training_labels_filepath = r'C:\\Users\\csr10\\OneDrive\\Рабочий стол\\Work\\Learn\\ML\\input\\train-labels-idx1-ubyte\\train-labels-idx1-ubyte'\n",
    "test_images_filepath = r'C:\\Users\\csr10\\OneDrive\\Рабочий стол\\Work\\Learn\\ML\\input\\t10k-images-idx3-ubyte\\t10k-images-idx3-ubyte'\n",
    "test_labels_filepath = r'C:\\Users\\csr10\\OneDrive\\Рабочий стол\\Work\\Learn\\ML\\input\\t10k-labels-idx1-ubyte\\t10k-labels-idx1-ubyte'\n",
    "\n",
    "mnist_dataloader = MnistDataloader(training_images_filepath, training_labels_filepath, test_images_filepath, test_labels_filepath)\n",
    "(X_train, y_train), (X_test, y_test) = mnist_dataloader.load_data()\n",
    "X_train = np.array(X_train).reshape(60000, 784)\n",
    "X_test = np.array(X_test).reshape(10000, 784)\n",
    "X_train = ((X_train / 255.) - .5) * 2\n",
    "X_test = ((X_test / 255.) - .5) * 2"
   ]
  },
  {
   "cell_type": "code",
   "execution_count": 71,
   "metadata": {},
   "outputs": [],
   "source": [
    "y_train = np.array(y_train)\n",
    "y_test = np.array(y_test)"
   ]
  },
  {
   "cell_type": "code",
   "execution_count": 72,
   "metadata": {},
   "outputs": [
    {
     "data": {
      "image/png": "[encoded data removed]",
      "text/plain": [
       "<Figure size 640x480 with 10 Axes>"
      ]
     },
     "metadata": {},
     "output_type": "display_data"
    }
   ],
   "source": [
    "import matplotlib.pyplot as plt\n",
    "\n",
    "\n",
    "fig, ax = plt.subplots(nrows=2, ncols=5, sharex=True, sharey=True)\n",
    "ax = ax.flatten()\n",
    "for i in range(10):\n",
    "    img = X_train[y_train == i][0].reshape(28, 28)\n",
    "    ax[i].imshow(img, cmap='Greys')\n",
    "\n",
    "ax[0].set_xticks([])\n",
    "ax[0].set_yticks([])\n",
    "plt.tight_layout()\n",
    "plt.show()"
   ]
  },
  {
   "cell_type": "code",
   "execution_count": 73,
   "metadata": {},
   "outputs": [],
   "source": [
    "np.savez_compressed('mnist_scaled.npz', \n",
    "                    X_train=X_train,\n",
    "                    y_train=y_train,\n",
    "                    X_test=X_test,\n",
    "                    y_test=y_test)"
   ]
  },
  {
   "cell_type": "code",
   "execution_count": null,
   "metadata": {},
   "outputs": [
    {
     "data": {
      "text/plain": [
       "['X_train', 'y_train', 'X_test', 'y_test']"
      ]
     },
     "execution_count": 3,
     "metadata": {},
     "output_type": "execute_result"
    }
   ],
   "source": [
    "import numpy as np\n",
    "\n",
    "\n",
    "mnist = np.load('mnist_scaled.npz')\n",
    "mnist.files\n",
    "X_train, y_train, X_test, y_test = [mnist[f] for f in ['X_train', 'y_train', \n",
    "                                    'X_test', 'y_test']]"
   ]
  },
  {
   "cell_type": "code",
   "execution_count": 90,
   "metadata": {},
   "outputs": [],
   "source": [
    "import sys\n",
    "import numpy as np\n",
    "\n",
    "\n",
    "class NeuralNetMLP(object):\n",
    "    def __init__(self, n_hidden=30, l2=0., epochs=100, eta=0.001, shuffle=True, minibatch_size=1, seed=None):\n",
    "        self.n_hidden = n_hidden # количество скрытых элементов\n",
    "        self.l2 = l2\n",
    "        self.epochs = epochs\n",
    "        self.eta = eta\n",
    "        self.shuffle = shuffle\n",
    "        self.minibatch_size = minibatch_size\n",
    "        self.random = np.random.RandomState(seed)\n",
    "\n",
    "    def _onehot(self, y, n_classes):\n",
    "        onehot = np.zeros((n_classes, y.shape[0]))\n",
    "        for idx, val in enumerate(y.astype(int)):\n",
    "            onehot[val, idx] = 1 # по строке значение, по столбцу индекс\n",
    "\n",
    "        return onehot.T # строки - индексы, столбцы - названия классов\n",
    "    \n",
    "    def _sigmoid(self, z):\n",
    "        # просто функция сигмоиды, но на z есть ограничения и если оно будет за них выходить, то его значение будет приравниваться к границам. Иначе могут быть ошибки.\n",
    "        # по сути возвращает вероятность принадлежности классу\n",
    "        return 1. / (1. + np.exp(-np.clip(z, -250, 250)))\n",
    "    \n",
    "    def _forward(self, X):\n",
    "        \"\"\"\n",
    "        X - матрица образцов и их признаков: N x M;\n",
    "        w_h - матрица весов скрытая: M x H;\n",
    "        w_out - матрица весов выхода: H x C;\n",
    "        b_h - смещение скрытой: H x 1; \n",
    "        b_out - смещение выхода: C x 1;\n",
    "        \"\"\"\n",
    "        z_h = np.dot(X, self.w_h) + self.b_h\n",
    "        a_h = self._sigmoid(z_h)\n",
    "        z_out = np.dot(a_h, self.w_out) + self.b_out\n",
    "        a_out = self._sigmoid(z_out)\n",
    "\n",
    "        return z_h, a_h, z_out, a_out\n",
    "    \n",
    "    def _compute_cost(self, y_enc, output):\n",
    "        L2_term = (self.l2 * (np.sum(self.w_h ** 2) + np.sum(self.w_out ** 2))) # L2-регулирующий коэффициент\n",
    "        # y_enc - one-hot кодированные истинные метки, логарифм используем для более быстрого исправления ошибок. \n",
    "        # в силу логарифма значения в матрице получаются неотрицательными\n",
    "        term1 = -y_enc * np.log(output) # возрастает при плохих ответах\n",
    "        term2 = (1 - y_enc) * np.log(1 - output) # убывает при плохих ответах\n",
    "        # кросс-энтропийная потеря\n",
    "        cost = np.sum(term1 - term2) + L2_term\n",
    "        \n",
    "        return cost\n",
    "    \n",
    "    def predict(self, X):\n",
    "        z_h, a_h, z_out, a_out = self._forward(X)\n",
    "        # там чем больше z, тем больше вероятность принадлежности к классу\n",
    "        y_pred = np.argmax(z_out, axis=1)\n",
    "        \n",
    "        return y_pred\n",
    "    \n",
    "    def fit(self, X_train, y_train, X_valid, y_valid):\n",
    "        n_output = np.unique(y_train).shape[0]\n",
    "        n_features = X_train.shape[1]\n",
    "        # вектор-смещение и матрица весов скрытого слоя\n",
    "        self.b_h = np.zeros(self.n_hidden)\n",
    "        self.w_h = self.random.normal(loc=0.0, scale=0.1, size=(n_features, self.n_hidden))\n",
    "        # аналогично для выходного слоя\n",
    "        self.b_out = np.zeros(n_output)\n",
    "        self.w_out = self.random.normal(loc=0.0, scale=0.1, size=(self.n_hidden, n_output))\n",
    "\n",
    "        epoch_strlen = len(str(self.epochs))\n",
    "        self.eval_ = {'cost': [], 'train_acc': [], 'valid_acc': []}\n",
    "\n",
    "        y_train_enc = self._onehot(y_train, n_output)\n",
    "\n",
    "        for i in range(self.epochs):\n",
    "            indices = np.arange(X_train.shape[0])\n",
    "            if self.shuffle:\n",
    "                self.random.shuffle(indices)\n",
    "            # мини-пакетный спуск\n",
    "            for start_idx in range(0, indices.shape[0] - self.minibatch_size + 1, self.minibatch_size):\n",
    "                batch_idx = indices[start_idx:start_idx + self.minibatch_size]\n",
    "\n",
    "                z_h, a_h, z_out, a_out = self._forward(X_train[batch_idx])\n",
    "\n",
    "                delta_out = a_out - y_train_enc[batch_idx]\n",
    "\n",
    "                sigmoid_derivative_h = a_h * (1. - a_h)\n",
    "\n",
    "                delta_h = (np.dot(delta_out, self.w_out.T) * sigmoid_derivative_h)\n",
    "\n",
    "                grad_w_h = np.dot(X_train[batch_idx].T, delta_h)\n",
    "                grad_b_h = np.sum(delta_h, axis=0)\n",
    "\n",
    "                grad_w_out = np.dot(a_h.T, delta_out)\n",
    "                grad_b_out = np.sum(delta_out, axis=0)\n",
    "\n",
    "                delta_w_h = (grad_w_h + self.l2 * self.w_h)\n",
    "                delta_b_h = grad_b_h # смещение без регуляризации\n",
    "\n",
    "                self.w_h -= self.eta * delta_w_h\n",
    "                self.b_h -= self.eta * delta_b_h\n",
    "\n",
    "                delta_w_out = (grad_w_out + self.l2 * self.w_out)\n",
    "                delta_b_out = grad_b_out # смещение без регуляризации\n",
    "                \n",
    "                self.w_out -= self.eta * delta_w_out\n",
    "                self.b_out -= self.eta * delta_b_out\n",
    "\n",
    "            z_h, a_h, z_out, a_out = self._forward(X_train)\n",
    "            cost = self._compute_cost(y_enc=y_train_enc, output=a_out)\n",
    "            y_train_pred = self.predict(X_train)\n",
    "            y_valid_pred = self.predict(X_valid)\n",
    "            train_acc = ((np.sum(y_train == y_train_pred)).astype(float) / X_train.shape[0])\n",
    "            valid_acc = ((np.sum(y_valid == y_valid_pred)).astype(float) / X_valid.shape[0])\n",
    "            \n",
    "            sys.stderr.write(\"\\r%0*d/%d | Издержки: %.2f | Правильность при обучении/проверке: %.2f%%/%.2f%%\" % (epoch_strlen, i+1, self.epochs, cost, train_acc*100, valid_acc*100))\n",
    "            sys.stderr.flush()\n",
    "\n",
    "            self.eval_['cost'].append(cost)\n",
    "            self.eval_['train_acc'].append(train_acc)\n",
    "            self.eval_['valid_acc'].append(valid_acc)\n",
    "            \n",
    "        return self"
   ]
  },
  {
   "cell_type": "code",
   "execution_count": 107,
   "metadata": {},
   "outputs": [
    {
     "name": "stderr",
     "output_type": "stream",
     "text": [
      "150/150 | Издержки: 6568.03 | Правильность при обучении/проверке: 98.99%/97.52%%"
     ]
    },
    {
     "data": {
      "text/plain": [
       "<__main__.NeuralNetMLP at 0x1b600559bd0>"
      ]
     },
     "execution_count": 107,
     "metadata": {},
     "output_type": "execute_result"
    }
   ],
   "source": [
    "nn = NeuralNetMLP(n_hidden=100, l2=0.01, epochs=150, eta=0.0005, minibatch_size=100, shuffle=True, seed=1)\n",
    "\n",
    "nn.fit(X_train=X_train, y_train=y_train, X_valid=X_test, y_valid=y_test)"
   ]
  },
  {
   "cell_type": "code",
   "execution_count": 92,
   "metadata": {},
   "outputs": [
    {
     "data": {
      "image/png": "[encoded data removed]",
      "text/plain": [
       "<Figure size 640x480 with 1 Axes>"
      ]
     },
     "metadata": {},
     "output_type": "display_data"
    }
   ],
   "source": [
    "import matplotlib.pyplot as plt\n",
    "\n",
    "\n",
    "plt.plot(range(nn.epochs), nn.eval_['cost'])\n",
    "plt.ylabel('Издержки')\n",
    "plt.xlabel('Эпохи')\n",
    "plt.show()"
   ]
  },
  {
   "cell_type": "code",
   "execution_count": 93,
   "metadata": {},
   "outputs": [
    {
     "data": {
      "image/png": "[encoded data removed]",
      "text/plain": [
       "<Figure size 640x480 with 1 Axes>"
      ]
     },
     "metadata": {},
     "output_type": "display_data"
    }
   ],
   "source": [
    "plt.plot(range(nn.epochs), nn.eval_['train_acc'], label='Обучение')\n",
    "plt.plot(range(nn.epochs), nn.eval_['valid_acc'], label='Проверка')\n",
    "plt.ylabel('Правильность')\n",
    "plt.xlabel('Эпохи')\n",
    "plt.legend(loc='lower right')\n",
    "plt.show()"
   ]
  },
  {
   "cell_type": "code",
   "execution_count": 94,
   "metadata": {},
   "outputs": [
    {
     "name": "stdout",
     "output_type": "stream",
     "text": [
      "Правильность на тестовом наборе: 96.63%\n"
     ]
    }
   ],
   "source": [
    "y_test_pred = nn.predict(X_test)\n",
    "acc = (np.sum(y_test == y_test_pred)).astype(float) / X_test.shape[0]\n",
    "print('Правильность на тестовом наборе: %.2f%%' % (acc*100))"
   ]
  },
  {
   "cell_type": "code",
   "execution_count": 95,
   "metadata": {},
   "outputs": [],
   "source": [
    "class TwoLayerNet(object):\n",
    "    def __init__(self, n_hidden1, n_hidden2, l2=0.0, epochs=100, eta=0.001, shuffle=True, seed=None, minibatch_size=1):\n",
    "        self.n_hidden1 = n_hidden1\n",
    "        self.n_hidden2 = n_hidden2\n",
    "        self.l2 = l2\n",
    "        self.epochs = epochs\n",
    "        self.eta = eta\n",
    "        self.shuffle = shuffle\n",
    "        self.minibatch_size = minibatch_size\n",
    "        self.random = np.random.RandomState(seed)\n",
    "\n",
    "    def _onehot(self, y, n_classes):\n",
    "        onehot = np.zeros((n_classes, y.shape[0]))\n",
    "        for idx, val in enumerate(y.astype(int)):\n",
    "            onehot[val, idx] = 1.0\n",
    "\n",
    "        return onehot.T\n",
    "\n",
    "    def _sigmoid(self, z):\n",
    "        return 1. / (1. + np.exp(-np.clip(z, -250, 250)))\n",
    "    \n",
    "    def _forward(self, X):\n",
    "        z_h1 = np.dot(X, self.w_h1) + self.b_h1\n",
    "        a_h1 = self._sigmoid(z_h1)\n",
    "        z_h2 = np.dot(a_h1, self.w_h2) + self.b_h2\n",
    "        a_h2 = self._sigmoid(z_h2)\n",
    "        z_out = np.dot(a_h2, self.w_out) + self.b_out\n",
    "        a_out = self._sigmoid(z_out)\n",
    "\n",
    "        return z_h1, a_h1, z_h2, a_h2, z_out, a_out\n",
    "    \n",
    "    def _compute_cost(self, y_enc, output):\n",
    "        L2_term = (self.l2 * (np.sum(self.w_h1 ** 2.) + np.sum(self.w_h2 ** 2.) + np.sum(self.w_out ** 2.)))\n",
    "        term1 = -y_enc * (np.log(output))\n",
    "        term2 = (1. - y_enc) * np.log(1. - output)\n",
    "        cost = np.sum(term1 - term2) + L2_term\n",
    "\n",
    "        return cost\n",
    "    \n",
    "    def predict(self, X):\n",
    "        z_h1, a_h1, z_h2, a_h2, z_out, a_out = self._forward(X)\n",
    "        y_pred = np.argmax(z_out, axis=1)\n",
    "\n",
    "        return y_pred\n",
    "    \n",
    "    def fit(self, X_train, y_train, X_valid, y_valid):\n",
    "        n_output = np.unique(y_train).shape[0]\n",
    "        n_features = X_train.shape[1]\n",
    "\n",
    "        self.b_h1 = np.zeros(self.n_hidden1)\n",
    "        self.w_h1 = self.random.normal(loc=0.0, scale=0.1, size=(n_features, self.n_hidden1))\n",
    "\n",
    "        self.b_h2 = np.zeros(self.n_hidden2)\n",
    "        self.w_h2 = self.random.normal(loc=0.0, scale=0.1, size=(self.n_hidden1, self.n_hidden2))\n",
    "\n",
    "        self.b_out = np.zeros(n_output)\n",
    "        self.w_out = self.random.normal(loc=0.0, scale=0.1, size=(self.n_hidden2, n_output))\n",
    "\n",
    "        epoch_strlen = len(str(self.epochs))\n",
    "        self.eval_ = {'cost': [], 'train_acc': [], 'valid_acc': []}\n",
    "\n",
    "        y_train_enc = self._onehot(y_train, n_output)\n",
    "\n",
    "        for i in range(self.epochs):\n",
    "            indices = np.arange(X_train.shape[0])\n",
    "            if self.shuffle:\n",
    "                self.random.shuffle(indices)\n",
    "\n",
    "            for start_idx in range(0, indices.shape[0] - self.minibatch_size + 1, self.minibatch_size):\n",
    "                batch_idx = indices[start_idx:start_idx + self.minibatch_size]\n",
    "\n",
    "                z_h1, a_h1, z_h2, a_h2, z_out, a_out = self._forward(X_train[batch_idx])\n",
    "\n",
    "                delta_out = a_out - y_train_enc[batch_idx]\n",
    "\n",
    "                sigmoid_derivative_h2 = a_h2 * (1. - a_h2)\n",
    "\n",
    "                delta_h2 = (np.dot(delta_out, self.w_out.T) * sigmoid_derivative_h2)\n",
    "\n",
    "                grad_w_h2 = np.dot(a_h1.T, delta_h2)\n",
    "                grad_b_h2 = np.sum(delta_h2, axis=0)\n",
    "\n",
    "                sigmoid_derivative_h1 = a_h1 * (1. - a_h1)\n",
    "\n",
    "                delta_h1 = (np.dot(delta_h2, self.w_h2.T) * sigmoid_derivative_h1)\n",
    "\n",
    "                grad_w_h1 = np.dot(X_train[batch_idx].T, delta_h1)\n",
    "                grad_b_h1 = np.sum(delta_h1, axis=0)\n",
    "\n",
    "                grad_w_out = np.dot(a_h2.T, delta_out)\n",
    "                grad_b_out = np.sum(delta_out, axis=0)\n",
    "\n",
    "                delta_w_h1 = (grad_w_h1 + self.l2 * self.w_h1)\n",
    "                delta_w_h2 = (grad_w_h2 + self.l2 * self.w_h2)\n",
    "                delta_w_out = (grad_w_out + self.l2 * self.w_out)\n",
    "                delta_b_h1 = grad_b_h1\n",
    "                delta_b_h2 = grad_b_h2\n",
    "                delta_b_out = grad_b_out\n",
    "\n",
    "                self.w_h1 -= self.eta * delta_w_h1\n",
    "                self.b_h1 -= self.eta * delta_b_h1\n",
    "                self.w_h2 -= self.eta * delta_w_h2\n",
    "                self.b_h2 -= self.eta * delta_b_h2\n",
    "                self.w_out -= self.eta * delta_w_out\n",
    "                self.b_out -= self.eta * delta_b_out\n",
    "\n",
    "            z_h1, a_h1, z_h2, a_h2, z_out, a_out = self._forward(X_train)\n",
    "            cost = self._compute_cost(y_enc=y_train_enc, output=a_out)\n",
    "            y_train_pred = self.predict(X_train)\n",
    "            y_valid_pred = self.predict(X_valid)\n",
    "            train_acc = (np.sum(y_train == y_train_pred)).astype(float) / X_train.shape[0]\n",
    "            valid_acc = (np.sum(y_valid == y_valid_pred)).astype(float) / X_valid.shape[0]\n",
    "\n",
    "            sys.stderr.write('\\r%0*d/%d | Cost: %.2f | Train/Valid Acc.: %.2f%%/%.2f%% ' % (epoch_strlen, i+1, self.epochs, cost, train_acc*100, valid_acc*100))\n",
    "            sys.stderr.flush()\n",
    "\n",
    "            self.eval_['cost'].append(cost)\n",
    "            self.eval_['train_acc'].append(train_acc)\n",
    "            self.eval_['valid_acc'].append(valid_acc)\n",
    "\n",
    "        return self\n"
   ]
  },
  {
   "cell_type": "code",
   "execution_count": 108,
   "metadata": {},
   "outputs": [
    {
     "name": "stderr",
     "output_type": "stream",
     "text": [
      "150/150 | Cost: 6012.36 | Train/Valid Acc.: 98.80%/97.18%  "
     ]
    },
    {
     "data": {
      "text/plain": [
       "<__main__.TwoLayerNet at 0x1b60055ac20>"
      ]
     },
     "execution_count": 108,
     "metadata": {},
     "output_type": "execute_result"
    }
   ],
   "source": [
    "tlnn = TwoLayerNet(n_hidden1=50, n_hidden2=100, l2=0.01, epochs=150, eta=0.005, minibatch_size=100, shuffle=True, seed=1)\n",
    "tlnn.fit(X_train, y_train, X_test, y_test)"
   ]
  },
  {
   "cell_type": "code",
   "execution_count": 97,
   "metadata": {},
   "outputs": [],
   "source": [
    "import numpy as np\n",
    "import sys\n",
    "\n",
    "\n",
    "mnist = np.load('mnist_scaled.npz')\n",
    "mnist.files\n",
    "X_train, y_train, X_test, y_test = [mnist[f] for f in ['X_train', 'y_train', \n",
    "                                    'X_test', 'y_test']]"
   ]
  },
  {
   "cell_type": "code",
   "execution_count": null,
   "metadata": {},
   "outputs": [],
   "source": [
    "class MultiLayerNet(object):\n",
    "    def __init__(self, n_hidden_list, l2=0.0, epochs=100, eta=0.001, shuffle=True, seed=None, minibatch_size=1):\n",
    "        self.n_hidden_list = n_hidden_list\n",
    "        self.n_layers = len(n_hidden_list)\n",
    "        self.l2 = l2\n",
    "        self.epochs = epochs\n",
    "        self.eta = eta\n",
    "        self.shuffle = shuffle\n",
    "        self.minibatch_size = minibatch_size\n",
    "        self.random = np.random.RandomState(seed)\n",
    "\n",
    "    def _onehot(self, y, n_classes):\n",
    "        onehot = np.zeros((n_classes, y.shape[0]))\n",
    "        for idx, val in enumerate(y.astype(int)):\n",
    "            onehot[val, idx] = 1.0\n",
    "\n",
    "        return onehot.T\n",
    "\n",
    "    def _sigmoid(self, z):\n",
    "        return 1. / (1. + np.exp(-np.clip(z, -250, 250)))\n",
    "    \n",
    "    def _forward(self, X):\n",
    "        z_h_list = []\n",
    "        a_h_list = []\n",
    "\n",
    "        z_h = np.dot(X, self.w_h_list[0]) + self.b_h_list[0]\n",
    "        a_h = self._sigmoid(z_h)\n",
    "        z_h_list.append(z_h)\n",
    "        a_h_list.append(a_h)\n",
    "        \n",
    "        for i in range(1, self.n_layers):\n",
    "            z_h = np.dot(a_h_list[i-1], self.w_h_list[i]) + self.b_h_list[i]\n",
    "            a_h = self._sigmoid(z_h)\n",
    "            z_h_list.append(z_h)\n",
    "            a_h_list.append(a_h)\n",
    "        z_out = np.dot(a_h_list[-1], self.w_out) + self.b_out\n",
    "        a_out = self._sigmoid(z_out)\n",
    "\n",
    "        return z_h_list, a_h_list, z_out, a_out\n",
    "    \n",
    "    def _compute_cost(self, y_enc, output):\n",
    "        l2_sum = np.sum(self.w_h_list[0] ** 2)\n",
    "        for i in range(1, self.n_layers):\n",
    "            l2_sum += np.sum(self.w_h_list[i] ** 2)\n",
    "        l2_sum += np.sum(self.w_out ** 2)\n",
    "        L2_term = (self.l2 * l2_sum)\n",
    "        term1 = -y_enc * (np.log(output))\n",
    "        term2 = (1. - y_enc) * np.log(1. - output)\n",
    "        cost = np.sum(term1 - term2) + L2_term\n",
    "\n",
    "        return cost\n",
    "    \n",
    "    def predict(self, X):\n",
    "        z_h_list, a_h_list, z_out, a_out = self._forward(X)\n",
    "        y_pred = np.argmax(z_out, axis=1)\n",
    "\n",
    "        return y_pred\n",
    "    \n",
    "    def fit(self, X_train, y_train, X_valid, y_valid):\n",
    "        n_output = np.unique(y_train).shape[0]\n",
    "        n_features = X_train.shape[1]\n",
    "\n",
    "        self.b_h_list = []\n",
    "        self.w_h_list = []\n",
    "\n",
    "        for i in range(self.n_layers):\n",
    "            n_hidden = self.n_hidden_list[i]\n",
    "            self.b_h_list.append(np.zeros(n_hidden))\n",
    "        \n",
    "        for i in range(self.n_layers):\n",
    "            n_hidden = self.n_hidden_list[i]\n",
    "            self.w_h_list.append(self.random.normal(loc=0.0, scale=0.1, size=(n_features, n_hidden)))\n",
    "            n_features = n_hidden\n",
    "\n",
    "        self.b_out = np.zeros(n_output)\n",
    "        self.w_out = self.random.normal(loc=0.0, scale=0.1, size=(self.n_hidden_list[-1], n_output))\n",
    "\n",
    "        epoch_strlen = len(str(self.epochs))\n",
    "        self.eval_ = {'cost': [], 'train_acc': [], 'valid_acc': []}\n",
    "\n",
    "        y_train_enc = self._onehot(y_train, n_output)\n",
    "\n",
    "        for i in range(self.epochs):\n",
    "            indices = np.arange(X_train.shape[0])\n",
    "            if self.shuffle:\n",
    "                self.random.shuffle(indices)\n",
    "\n",
    "            for start_idx in range(0, indices.shape[0] - self.minibatch_size + 1, self.minibatch_size):\n",
    "                batch_idx = indices[start_idx:start_idx + self.minibatch_size]\n",
    "\n",
    "                z_h_list, a_h_list, z_out, a_out = self._forward(X_train[batch_idx])\n",
    "\n",
    "                delta_out = a_out - y_train_enc[batch_idx]\n",
    "                grad_w_out = np.dot(a_h_list[-1].T, delta_out)\n",
    "                grad_b_out = np.sum(delta_out, axis=0)\n",
    "                delta_w_out = (grad_w_out + self.l2 * self.w_out)\n",
    "                delta_b_out = grad_b_out\n",
    "\n",
    "                sigmoid_derivative_h_list = [a_h_list[j] * (1. - a_h_list[j]) for j in range(self.n_layers)]\n",
    "                delta_h_list = [np.dot(delta_out, self.w_out.T) * sigmoid_derivative_h_list[-1]]\n",
    "\n",
    "                for j in range(self.n_layers - 2, -1, -1):\n",
    "                    vr_dot = np.dot(delta_h_list[-1], self.w_h_list[j+1].T)\n",
    "                    sig = sigmoid_derivative_h_list[j]\n",
    "                    delta_h_list.append(vr_dot * sig)\n",
    "                \n",
    "                delta_h_list.reverse()\n",
    "\n",
    "                grad_w_h_list = [np.dot(X_train[batch_idx].T, delta_h_list[0])]\n",
    "                grad_b_h_list = [np.sum(delta_h_list[0], axis=0)]\n",
    "                delta_w_h_list = []\n",
    "                delta_b_h_list = []\n",
    "\n",
    "                for j in range(1, self.n_layers):\n",
    "                    grad_w_h_list.append(np.dot(a_h_list[j-1].T, delta_h_list[j]))\n",
    "                    grad_b_h_list.append(np.sum(delta_h_list[j], axis=0))\n",
    "                \n",
    "                for j in range(self.n_layers):\n",
    "                    delta_w_h_list.append(grad_w_h_list[j] + self.l2 * self.w_h_list[j])\n",
    "                    delta_b_h_list.append(grad_b_h_list[j])\n",
    "\n",
    "                for j in range(self.n_layers):\n",
    "                    self.w_h_list[j] -= self.eta * delta_w_h_list[j]\n",
    "                    self.b_h_list[j] -= self.eta * delta_b_h_list[j]\n",
    "\n",
    "                self.w_out -= self.eta * delta_w_out\n",
    "                self.b_out -= self.eta * delta_b_out\n",
    "\n",
    "            z_h_list, a_h_list, z_out, a_out = self._forward(X_train)\n",
    "            cost = self._compute_cost(y_enc=y_train_enc, output=a_out)\n",
    "            y_train_pred = self.predict(X_train)\n",
    "            y_valid_pred = self.predict(X_valid)\n",
    "            train_acc = (np.sum(y_train == y_train_pred)).astype(float) / X_train.shape[0]\n",
    "            valid_acc = (np.sum(y_valid == y_valid_pred)).astype(float) / X_valid.shape[0]\n",
    "\n",
    "            sys.stderr.write('\\r%0*d/%d | Cost: %.2f | Train/Valid Acc.: %.2f%%/%.2f%% ' % (epoch_strlen, i+1, self.epochs, cost, train_acc*100, valid_acc*100))\n",
    "            sys.stderr.flush()\n",
    "\n",
    "            self.eval_['cost'].append(cost)\n",
    "            self.eval_['train_acc'].append(train_acc)\n",
    "            self.eval_['valid_acc'].append(valid_acc)\n",
    "\n",
    "        return self\n"
   ]
  },
  {
   "cell_type": "code",
   "execution_count": 106,
   "metadata": {},
   "outputs": [
    {
     "name": "stderr",
     "output_type": "stream",
     "text": [
      "150/150 | Cost: 2287.16 | Train/Valid Acc.: 99.86%/97.31%   "
     ]
    },
    {
     "data": {
      "text/plain": [
       "<__main__.MultiLayerNet at 0x1b60055a980>"
      ]
     },
     "execution_count": 106,
     "metadata": {},
     "output_type": "execute_result"
    }
   ],
   "source": [
    "mlnn = MultiLayerNet(n_hidden_list=[100, 50, 20], l2=0.01, epochs=150, eta=0.0005, minibatch_size=100, shuffle=True, seed=1)\n",
    "mlnn.fit(X_train=X_train, y_train=y_train, X_valid=X_test, y_valid=y_test)"
   ]
  }
 ],
 "metadata": {
  "kernelspec": {
   "display_name": "Python 3",
   "language": "python",
   "name": "python3"
  },
  "language_info": {
   "codemirror_mode": {
    "name": "ipython",
    "version": 3
   },
   "file_extension": ".py",
   "mimetype": "text/x-python",
   "name": "python",
   "nbconvert_exporter": "python",
   "pygments_lexer": "ipython3",
   "version": "3.10.5"
  }
 },
 "nbformat": 4,
 "nbformat_minor": 2
}
