{
 "cells": [
  {
   "cell_type": "code",
   "execution_count": 1,
   "id": "5dede86a",
   "metadata": {},
   "outputs": [],
   "source": [
    "import tensorflow as tf\n",
    "import imageio"
   ]
  },
  {
   "cell_type": "code",
   "execution_count": 2,
   "id": "055f6737",
   "metadata": {},
   "outputs": [
    {
     "name": "stdout",
     "output_type": "stream",
     "text": [
      "tf.Tensor([334 825   4], shape=(3,), dtype=int32)\n"
     ]
    }
   ],
   "source": [
    "# reading image with tensorflow\n",
    "raw_img = tf.io.read_file('images\\\\15_01.png')\n",
    "img = tf.io.decode_png(raw_img)\n",
    "print(tf.shape(img))"
   ]
  },
  {
   "cell_type": "code",
   "execution_count": 3,
   "id": "c4fc77c2",
   "metadata": {},
   "outputs": [
    {
     "name": "stdout",
     "output_type": "stream",
     "text": [
      "(334, 825, 4)\n"
     ]
    },
    {
     "name": "stderr",
     "output_type": "stream",
     "text": [
      "C:\\Users\\csr10\\AppData\\Local\\Temp\\ipykernel_10992\\1746701355.py:2: DeprecationWarning: Starting with ImageIO v3 the behavior of this function will switch to that of iio.v3.imread. To keep the current behavior (and make this warning disappear) use `import imageio.v2 as imageio` or call `imageio.v2.imread` directly.\n",
      "  img = imageio.imread('images\\\\15_01.png')\n"
     ]
    }
   ],
   "source": [
    "# reading image with imageio\n",
    "img = imageio.imread('images\\\\15_01.png')\n",
    "print(img.shape)"
   ]
  }
 ],
 "metadata": {
  "kernelspec": {
   "display_name": "Python 3",
   "language": "python",
   "name": "python3"
  },
  "language_info": {
   "codemirror_mode": {
    "name": "ipython",
    "version": 3
   },
   "file_extension": ".py",
   "mimetype": "text/x-python",
   "name": "python",
   "nbconvert_exporter": "python",
   "pygments_lexer": "ipython3",
   "version": "3.10.5"
  }
 },
 "nbformat": 4,
 "nbformat_minor": 5
}
